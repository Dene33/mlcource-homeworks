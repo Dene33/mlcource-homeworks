{
  "nbformat": 4,
  "nbformat_minor": 0,
  "metadata": {
    "colab": {
      "name": "Copy of assignment1_pandas_olympic.ipynb",
      "version": "0.3.2",
      "provenance": [],
      "collapsed_sections": []
    },
    "kernelspec": {
      "display_name": "Python 3",
      "language": "python",
      "name": "python3"
    }
  },
  "cells": [
    {
      "metadata": {
        "id": "Sq55Y1xjQERY",
        "colab_type": "text"
      },
      "cell_type": "markdown",
      "source": [
        "<center>\n",
        "<img src=\"https://github.com/Yorko/mlcourse.ai/blob/master/img/ods_stickers.jpg?raw=1\" />\n",
        "    \n",
        "## [mlcourse.ai](mlcourse.ai) – Open Machine Learning Course \n",
        "Author: Arina Lopukhova (@erynn). Edited by [Yury Kashnitskiy](https://yorko.github.io) (@yorko). This material is subject to the terms and conditions of the [Creative Commons CC BY-NC-SA 4.0](https://creativecommons.org/licenses/by-nc-sa/4.0/) license. Free use is permitted for any non-commercial purpose."
      ]
    },
    {
      "metadata": {
        "id": "XM2BzuPbQERc",
        "colab_type": "text"
      },
      "cell_type": "markdown",
      "source": [
        "<h1><center>Assignment #1. Fall 2018</center></h1>\n",
        "<h2><center>Exploratory data analysis of Olympic games with Pandas</center></h2>"
      ]
    },
    {
      "metadata": {
        "id": "LmjkcLtoQERe",
        "colab_type": "text"
      },
      "cell_type": "markdown",
      "source": [
        "__There are ten questions about [120 years of Olympic history: athletes and results](https://www.kaggle.com/heesoo37/120-years-of-olympic-history-athletes-and-results/version/2) dataset in this task. Your task is to fill in the missing Python code and choose answers in [this web-form](https://docs.google.com/forms/d/179HYvlF_0x435CWdu2aOtR9a3flh0YCQXXNXhXaKw2M).__"
      ]
    },
    {
      "metadata": {
        "id": "G4RxHVINQERg",
        "colab_type": "text"
      },
      "cell_type": "markdown",
      "source": [
        "Download the file `athlete_events.csv` from [Kaggle page](https://www.kaggle.com/heesoo37/120-years-of-olympic-history-athletes-and-results). The dataset has the following features (copied from Kaggle):\n",
        "\n",
        "- __ID__ - Unique number for each athlete\n",
        "- __Name__ - Athlete's name\n",
        "- __Sex__ - M or F\n",
        "- __Age__ - Integer\n",
        "- __Height__ - In centimeters\n",
        "- __Weight__ - In kilograms\n",
        "- __Team__ - Team name\n",
        "- __NOC__ - National Olympic Committee 3-letter code\n",
        "- __Games__ - Year and season\n",
        "- __Year__ - Integer\n",
        "- __Season__ - Summer or Winter\n",
        "- __City__ - Host city\n",
        "- __Sport__ - Sport\n",
        "- __Event__ - Event\n",
        "- __Medal__ - Gold, Silver, Bronze, or NA"
      ]
    },
    {
      "metadata": {
        "id": "CLV-AENSQERi",
        "colab_type": "code",
        "colab": {}
      },
      "cell_type": "code",
      "source": [
        "import pandas as pd\n",
        "import numpy as np"
      ],
      "execution_count": 0,
      "outputs": []
    },
    {
      "metadata": {
        "id": "JJ506Cj8QERn",
        "colab_type": "code",
        "colab": {}
      },
      "cell_type": "code",
      "source": [
        "# Change the path to the dataset file if needed. \n",
        "PATH = 'athlete_events.csv'"
      ],
      "execution_count": 0,
      "outputs": []
    },
    {
      "metadata": {
        "id": "vfxQ0_X6QERr",
        "colab_type": "code",
        "colab": {}
      },
      "cell_type": "code",
      "source": [
        "data = pd.read_csv(PATH)\n",
        "data.head()"
      ],
      "execution_count": 0,
      "outputs": []
    },
    {
      "metadata": {
        "id": "kGH2PQguQER0",
        "colab_type": "text"
      },
      "cell_type": "markdown",
      "source": [
        "\n",
        "__1. How old were the youngest male and female participants of the 1996 Olympics?__\n",
        "\n",
        "- 16 and 15\n",
        "- 14 and 12 \n",
        "- 16 and 12\n",
        "- 13 and 11"
      ]
    },
    {
      "metadata": {
        "id": "Zeu7Wy82QER1",
        "colab_type": "code",
        "colab": {}
      },
      "cell_type": "code",
      "source": [
        "youngest_male = data[(data['Year'] == 1996) & (data['Sex'] == 'M')].min()\n",
        "\n",
        "youngest_female = data[(data['Year'] == 1996) & (data['Sex'] == 'F')].min()\n",
        "\n",
        "print('Youngest male: {} \\nYoungest female: {}'.format(youngest_male['Age'], youngest_female['Age']))"
      ],
      "execution_count": 0,
      "outputs": []
    },
    {
      "metadata": {
        "id": "o4PZIsnNQER6",
        "colab_type": "text"
      },
      "cell_type": "markdown",
      "source": [
        "__2. What was the percentage of male gymnasts among all the male participants of the 2000 Olympics? Round the answer to the first decimal.__\n",
        "\n",
        "*Hint:* here and further if needed drop duplicated sportsmen to count only unique ones. \n",
        "\n",
        "- 0.2\n",
        "- 1.5 \n",
        "- 2.5\n",
        "- 7.7"
      ]
    },
    {
      "metadata": {
        "id": "H2FgAAQkdUCa",
        "colab_type": "code",
        "colab": {}
      },
      "cell_type": "code",
      "source": [
        "data['Sport'].unique()"
      ],
      "execution_count": 0,
      "outputs": []
    },
    {
      "metadata": {
        "id": "vSnVm_AbQER7",
        "colab_type": "code",
        "colab": {}
      },
      "cell_type": "code",
      "source": [
        "male_2000 = data[(data['Year'] == 2000) & (data['Sex'] == 'M')]\n",
        "\n",
        "male_gymnast = data[((data['Year'] == 2000) & (data['Sex'] == 'M')) & (data['Sport'] == 'Gymnastics')]\n",
        "\n",
        "male_2000_count = len(male_2000['Name'].unique())\n",
        "\n",
        "male_gymnast_count = len(male_gymnast['Name'].unique())\n",
        "\n",
        "percentage = (male_gymnast_count/male_2000_count)*100\n",
        "\n",
        "print('Total males in 2000: {}\\nGymnasts males in 2000: {}'.format(male_2000_count, male_gymnast_count))\n",
        "print('Percent of gymnast males in 2000 of all males in 2000:', percentage)\n"
      ],
      "execution_count": 0,
      "outputs": []
    },
    {
      "metadata": {
        "id": "MBvziR81QESA",
        "colab_type": "text"
      },
      "cell_type": "markdown",
      "source": [
        "__3. What are the mean and standard deviation of height for female basketball players participated in the 2000 Olympics? Round the answer to the first decimal.__\n",
        "\n",
        "- 178.5 and 7.2\n",
        "- 179.4 and 10\n",
        "- 180.7 and 6.7\n",
        "- 182.4 and 9.1 "
      ]
    },
    {
      "metadata": {
        "id": "6xNFC10TQESC",
        "colab_type": "code",
        "colab": {}
      },
      "cell_type": "code",
      "source": [
        "female_bask_2000 = data[((data['Sex'] == 'F') & (data['Sport'] == 'Basketball')) & (data['Year'] == 2000)]\n",
        "\n",
        "print('Mean:{}\\nDeviation:{}'.format(female_bask_2000['Height'].mean(),female_bask_2000['Height'].std()))\n"
      ],
      "execution_count": 0,
      "outputs": []
    },
    {
      "metadata": {
        "id": "xOq5omDfQESG",
        "colab_type": "text"
      },
      "cell_type": "markdown",
      "source": [
        "__4. Find a sportsperson participated in the 2002 Olympics, with the highest weight among other participants of the same Olympics. What sport did he or she do?__\n",
        "\n",
        "- Judo\n",
        "- Bobsleigh \n",
        "- Weightlifting\n",
        "- Boxing"
      ]
    },
    {
      "metadata": {
        "id": "_vGVbiqPQESI",
        "colab_type": "code",
        "colab": {}
      },
      "cell_type": "code",
      "source": [
        "athlets_2002 = data[data['Year'] == 2002]\n",
        "\n",
        "heavy_person = athlets_2002[athlets_2002['Weight'] == athlets_2002['Weight'].max()]\n",
        "\n",
        "print('Sport the heaviest athlet did in 2002: ', heavy_person['Sport'])"
      ],
      "execution_count": 0,
      "outputs": []
    },
    {
      "metadata": {
        "id": "35y6AtLBQESP",
        "colab_type": "text"
      },
      "cell_type": "markdown",
      "source": [
        "__5. How many times did Pawe Abratkiewicz participate in the Olympics held in different years?__\n",
        "\n",
        "- 0\n",
        "- 1 \n",
        "- 2\n",
        "- 3 "
      ]
    },
    {
      "metadata": {
        "id": "sf4iFC3bQESQ",
        "colab_type": "code",
        "colab": {}
      },
      "cell_type": "code",
      "source": [
        "pawe = data[data['Name'] == 'Pawe Abratkiewicz']\n",
        "\n",
        "print(\"Times of Pawe at Olympics in different years: \", len(pawe['Year'].unique()))"
      ],
      "execution_count": 0,
      "outputs": []
    },
    {
      "metadata": {
        "id": "yAze6HbAQESU",
        "colab_type": "text"
      },
      "cell_type": "markdown",
      "source": [
        "__6. How many silver medals in tennis did Australia win at the 2000 Olympics?__\n",
        "\n",
        "- 0\n",
        "- 1 \n",
        "- 2 \n",
        "- 3 "
      ]
    },
    {
      "metadata": {
        "id": "qiq-_jNFQESW",
        "colab_type": "code",
        "colab": {}
      },
      "cell_type": "code",
      "source": [
        "australia_2000 = data[(data['Year'] == 2000) & (data['Team'] == 'Australia')]\n",
        "print('Silver medals in Tennis of Australia in 2000:',len(australia_2000[(australia_2000['Medal'] == 'Silver') & (australia_2000['Sport'] == 'Tennis')]))"
      ],
      "execution_count": 0,
      "outputs": []
    },
    {
      "metadata": {
        "id": "kNu28D8FQESa",
        "colab_type": "text"
      },
      "cell_type": "markdown",
      "source": [
        "__7. Is it true that Switzerland won fewer medals than Serbia at the 2016 Olympics? Do not consider NaN values in _Medal_ column.__ \n",
        "\n",
        "- Yes \n",
        "- No"
      ]
    },
    {
      "metadata": {
        "id": "vcT4PX1dQESb",
        "colab_type": "code",
        "colab": {}
      },
      "cell_type": "code",
      "source": [
        "switzerland = data[(data['Year'] == 2016) & (data['Team'] == 'Switzerland')]\n",
        "switzerland_medals = len(switzerland['Medal'].dropna())\n",
        "\n",
        "serbia = data[(data['Year'] == 2016) & (data['Team'] == 'Serbia')]\n",
        "serbia_medals = len(serbia['Medal'].dropna())\n",
        "\n",
        "print('Switzerland won fewer medals than Serbia at the 2016 Olympics:', switzerland_medals < serbia_medals)\n"
      ],
      "execution_count": 0,
      "outputs": []
    },
    {
      "metadata": {
        "id": "wGwf60QZQESf",
        "colab_type": "text"
      },
      "cell_type": "markdown",
      "source": [
        "__8. What age category did the fewest and the most participants of the 2014 Olympics belong to?__\n",
        "- [45-55] and [25-35) correspondingly\n",
        "- [45-55] and [15-25) correspondingly\n",
        "- [35-45] and [25-35) correspondingly\n",
        "- [45-55] and [35-45) correspondingly"
      ]
    },
    {
      "metadata": {
        "id": "hygPZdDmQESg",
        "colab_type": "code",
        "colab": {
          "base_uri": "https://localhost:8080/",
          "height": 231
        },
        "outputId": "0fa2996c-7592-49f8-c42d-b1fd072a727c"
      },
      "cell_type": "code",
      "source": [
        "olympics_2014 = data[(data['Year'] == 2014)]\n",
        "\n",
        "olympics_2014['Age']\n",
        "\n",
        "print(olympics_2014.groupby(['Age'])['Age'].count())\n",
        "\n",
        "ages = olympics_2014.groupby(['Age'])['Age'].count()\n",
        "\n",
        "ages_45_55 = ages.loc[45:55]\n",
        "ages_35_45 = ages.loc[35:45]\n",
        "\n",
        "ages_25_35 = ages.loc[25:35].iloc[:-1]\n",
        "ages_15_25 = ages.loc[15:25].iloc[:-1]\n",
        "ages_35_45_2 = ages.loc[35:45].iloc[:-1]\n",
        "\n",
        "print('All categories:')\n",
        "print('[45-55] and [25-35):{} - {}'.format(ages_45_55.count(), ages_25_35.count()))\n",
        "print('[45-55] and [15-25):{} - {}'.format(ages_45_55.count(), ages_15_25.count()))\n",
        "print('[35-45] and [25-35):{} - {}'.format(ages_35_45.count(), ages_25_35.count()))\n",
        "print('[45-55] and [35-45):{} - {}'.format(ages_45_55.count(), ages_35_45.count()))\n",
        "\n",
        "print('Answer:')\n",
        "print('[45-55] and [35-45):{} - {}'.format(ages_45_55.count(), ages_35_45.count()))"
      ],
      "execution_count": 1,
      "outputs": [
        {
          "output_type": "error",
          "ename": "NameError",
          "evalue": "ignored",
          "traceback": [
            "\u001b[0;31m---------------------------------------------------------------------------\u001b[0m",
            "\u001b[0;31mNameError\u001b[0m                                 Traceback (most recent call last)",
            "\u001b[0;32m<ipython-input-1-46ea2f9c312c>\u001b[0m in \u001b[0;36m<module>\u001b[0;34m()\u001b[0m\n\u001b[0;32m----> 1\u001b[0;31m \u001b[0molympics_2014\u001b[0m \u001b[0;34m=\u001b[0m \u001b[0mdata\u001b[0m\u001b[0;34m[\u001b[0m\u001b[0;34m(\u001b[0m\u001b[0mdata\u001b[0m\u001b[0;34m[\u001b[0m\u001b[0;34m'Year'\u001b[0m\u001b[0;34m]\u001b[0m \u001b[0;34m==\u001b[0m \u001b[0;36m2014\u001b[0m\u001b[0;34m)\u001b[0m\u001b[0;34m]\u001b[0m\u001b[0;34m\u001b[0m\u001b[0m\n\u001b[0m\u001b[1;32m      2\u001b[0m \u001b[0;34m\u001b[0m\u001b[0m\n\u001b[1;32m      3\u001b[0m \u001b[0molympics_2014\u001b[0m\u001b[0;34m[\u001b[0m\u001b[0;34m'Age'\u001b[0m\u001b[0;34m]\u001b[0m\u001b[0;34m\u001b[0m\u001b[0m\n\u001b[1;32m      4\u001b[0m \u001b[0;34m\u001b[0m\u001b[0m\n\u001b[1;32m      5\u001b[0m \u001b[0mprint\u001b[0m\u001b[0;34m(\u001b[0m\u001b[0molympics_2014\u001b[0m\u001b[0;34m.\u001b[0m\u001b[0mgroupby\u001b[0m\u001b[0;34m(\u001b[0m\u001b[0;34m[\u001b[0m\u001b[0;34m'Age'\u001b[0m\u001b[0;34m]\u001b[0m\u001b[0;34m)\u001b[0m\u001b[0;34m[\u001b[0m\u001b[0;34m'Age'\u001b[0m\u001b[0;34m]\u001b[0m\u001b[0;34m.\u001b[0m\u001b[0mcount\u001b[0m\u001b[0;34m(\u001b[0m\u001b[0;34m)\u001b[0m\u001b[0;34m)\u001b[0m\u001b[0;34m\u001b[0m\u001b[0m\n",
            "\u001b[0;31mNameError\u001b[0m: name 'data' is not defined"
          ]
        }
      ]
    },
    {
      "metadata": {
        "id": "12VZ4AxQQESk",
        "colab_type": "text"
      },
      "cell_type": "markdown",
      "source": [
        "__9. Is it true that there were Summer Olympics held in Lake Placid? Is it true that there were Winter Olympics held in Sankt Moritz?__\n",
        "\n",
        "- Yes, Yes\n",
        "- Yes, No\n",
        "- No, Yes \n",
        "- No, No "
      ]
    },
    {
      "metadata": {
        "id": "qaQWiy9_QESm",
        "colab_type": "code",
        "colab": {}
      },
      "cell_type": "code",
      "source": [
        "print(len(data[(data['City'] == 'Lake Placid') & (data['Season'] == 'Summer')]))\n",
        "\n",
        "print(len(data[(data['City'] == 'Sankt Moritz') & (data['Season'] == 'Winter')]))\n",
        "\n",
        "print(\"Answer: No, Yes\")"
      ],
      "execution_count": 0,
      "outputs": []
    },
    {
      "metadata": {
        "id": "d6JrTWsMQESr",
        "colab_type": "text"
      },
      "cell_type": "markdown",
      "source": [
        "__10. What is the absolute difference between the number of unique sports at the 1995 Olympics and 2016 Olympics?__\n",
        "\n",
        "- 16\n",
        "- 24\n",
        "- 26\n",
        "- 34"
      ]
    },
    {
      "metadata": {
        "id": "DzQ2BC8hQESt",
        "colab_type": "code",
        "colab": {}
      },
      "cell_type": "code",
      "source": [
        "sports_2016 = data[data['Year'] == 2016].loc[:,'Sport'].unique()\n",
        "# sports_2016\n",
        "\n",
        "len(sports_2016)\n",
        "\n",
        "\n",
        "\n"
      ],
      "execution_count": 0,
      "outputs": []
    },
    {
      "metadata": {
        "id": "N7_WYc7TjthG",
        "colab_type": "code",
        "colab": {}
      },
      "cell_type": "code",
      "source": [
        ""
      ],
      "execution_count": 0,
      "outputs": []
    }
  ]
}